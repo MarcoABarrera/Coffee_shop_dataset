{
 "cells": [
  {
   "cell_type": "markdown",
   "id": "bd7f21b5",
   "metadata": {},
   "source": [
    "## Background\n",
    "Java June is a company that owns coffee shops in a number of locations in Europe.\n",
    "The company knows that stores with more reviews typically get more new customers. This is\n",
    "because new customers consider the number of reviews when picking between two shops.\n",
    "They want to get more insight into what leads to more reviews.\n",
    "They are also interested in whether there is a link between the number of reviews and rating.\n",
    "They want a report to answer these questions.\n"
   ]
  },
  {
   "cell_type": "markdown",
   "id": "e5ccbaaa",
   "metadata": {},
   "source": [
    "1. For every column in the data:\n",
    "a. State whether the values match the description given in the table above.\n",
    "b. State the number of missing values in the column\n",
    "c. Describe what you did to make values match the description if they did not\n",
    "match.\n",
    "2. Create a visualization that shows how many stores were given each rating. Use the\n",
    "visualization to:\n",
    "a. State which category has the most number of observations\n",
    "b. Explain whether the observations are balanced across categories\n",
    "3. Describe the distribution of the number of reviews. Your answer must include a visualization that shows the distribution.\n",
    "4. Describe the relationship between number of reviews and rating. Your answer must include a visualization to demonstrate the relationship.\n",
    "5. The business wants to predict the number of reviews a store will get using the data provided. State the type of machine learning problem that this is (regression/classification/clustering).\n",
    "6. Fit a baseline model to predict the number of reviews a store will get using the data provided. You must include your code.\n",
    "7. Fit a comparison model to predict the number of reviews a store will get using the data provided. You must include your code.\n",
    "8. Explain why you chose the two models used in parts 6 and 7.\n",
    "9. Compare the performance of the two models used in parts 6 and 7, using any method suitable for the type of model. You must include your code.\n",
    "10. Explain which model performs better and why."
   ]
  },
  {
   "cell_type": "code",
   "execution_count": 1,
   "id": "4956d405",
   "metadata": {},
   "outputs": [
    {
     "name": "stdout",
     "output_type": "stream",
     "text": [
      "  Region             Place name   Place type  Rating  Reviews Price  \\\n",
      "0      C               Dim Kavu       Others     4.6    206.0    $$   \n",
      "1      C                Коферум         Cafe     5.0     24.0    $$   \n",
      "2      C       Кофейня Світ Чаю  Coffee shop     5.0     11.0    $$   \n",
      "3      C       Кофейня Starcoff  Coffee shop     4.4    331.0    $$   \n",
      "4      C  Кофейня \"Friend Zone\"  Coffee shop     5.0     12.0    $$   \n",
      "\n",
      "   Delivery option Dine in option Takeout option  \n",
      "0            False            NaN            NaN  \n",
      "1            False            NaN           True  \n",
      "2            False            NaN           True  \n",
      "3            False           True           True  \n",
      "4            False           True           True  \n",
      "\n",
      "\n",
      "<class 'pandas.core.frame.DataFrame'>\n",
      "RangeIndex: 200 entries, 0 to 199\n",
      "Data columns (total 9 columns):\n",
      " #   Column           Non-Null Count  Dtype  \n",
      "---  ------           --------------  -----  \n",
      " 0   Region           200 non-null    object \n",
      " 1   Place name       200 non-null    object \n",
      " 2   Place type       200 non-null    object \n",
      " 3   Rating           198 non-null    float64\n",
      " 4   Reviews          198 non-null    float64\n",
      " 5   Price            200 non-null    object \n",
      " 6   Delivery option  200 non-null    bool   \n",
      " 7   Dine in option   140 non-null    object \n",
      " 8   Takeout option   144 non-null    object \n",
      "dtypes: bool(1), float64(2), object(6)\n",
      "memory usage: 12.8+ KB\n",
      "None\n"
     ]
    }
   ],
   "source": [
    "#Data import and first look\n",
    "import pandas as pd\n",
    "\n",
    "data = pd.read_csv(r'C:\\Users\\MacBook\\Desktop\\Python Jupyter notebook\\Associate practical exam sample\\coffee.csv')\n",
    "print(data.head())\n",
    "print('\\n')\n",
    "print(data.info())"
   ]
  },
  {
   "cell_type": "code",
   "execution_count": 13,
   "id": "05cccab5",
   "metadata": {},
   "outputs": [
    {
     "name": "stdout",
     "output_type": "stream",
     "text": [
      "Number of regions: 10\n",
      "\n",
      "\n",
      "Categories in Place type\n",
      "Coffee shop     97\n",
      "Cafe            58\n",
      "Others          25\n",
      "Espresso bar    20\n",
      "Name: Place type, dtype: int64\n",
      "\n",
      "\n",
      "Min and max of rating --> 0.0 , 5.0\n",
      "\n",
      "\n",
      "Categories in Price\n",
      "$$     194\n",
      "$$$      4\n",
      "$        2\n",
      "Name: Price, dtype: int64\n",
      "\n",
      "\n",
      "Categories in Delivery option\n",
      "False    165\n",
      "True      35\n",
      "Name: Delivery option, dtype: int64\n",
      "\n",
      "\n",
      "Categories in Dine in option\n",
      "True     140\n",
      "False     60\n",
      "Name: Dine in option, dtype: int64\n",
      "\n",
      "\n",
      "Categories in Takeout option\n",
      "True     144\n",
      "False     56\n",
      "Name: Takeout option, dtype: int64\n",
      "\n",
      "\n",
      "Categorical variables\n",
      "Region              10\n",
      "Place name         187\n",
      "Place type           4\n",
      "Price                3\n",
      "Delivery option      2\n",
      "Dine in option       2\n",
      "Takeout option       2\n",
      "dtype: int64\n"
     ]
    }
   ],
   "source": [
    "#a) State whether the values match with the given description\n",
    "\n",
    "print('Number of regions:',len(data.Region.unique())) # #Region should have from A - J -->10 --It matches\n",
    "print('\\n')\n",
    "print('Categories in Place type')\n",
    "print(data['Place type'].value_counts()) #Should be divided into categories--it matches\n",
    "print('\\n')\n",
    "print('Min and max of rating -->',min(data['Rating']),',', max(data['Rating'])) #Max value should be 5 --it matches\n",
    "print('\\n')\n",
    "print('Categories in Price')\n",
    "print(data['Price'].value_counts()) #Should be divided into categories--it matches\n",
    "print('\\n')\n",
    "print('Categories in Delivery option')\n",
    "print(data['Delivery option'].value_counts()) #Should be either True or false --> it matches\n",
    "print('\\n')\n",
    "print('Categories in Dine in option')\n",
    "print(data['Dine in option'].value_counts()) #Should be either True or false --> Missing values should be FALSE...next step\n",
    "print('\\n')\n",
    "print('Categories in Takeout option')\n",
    "print(data['Takeout option'].value_counts())#Should be either True or false --> Missing values should be FALSE...next step\n",
    "print('\\n')\n",
    "print('Categorical variables')\n",
    "print(data.select_dtypes(['object','bool']).nunique())"
   ]
  },
  {
   "cell_type": "code",
   "execution_count": 3,
   "id": "66567f3a",
   "metadata": {},
   "outputs": [
    {
     "name": "stdout",
     "output_type": "stream",
     "text": [
      "Region              0\n",
      "Place name          0\n",
      "Place type          0\n",
      "Rating              2\n",
      "Reviews             2\n",
      "Price               0\n",
      "Delivery option     0\n",
      "Dine in option     60\n",
      "Takeout option     56\n",
      "dtype: int64\n"
     ]
    }
   ],
   "source": [
    "#b) State the number of missing values in the column\n",
    "print(data.isna().sum())"
   ]
  },
  {
   "cell_type": "code",
   "execution_count": 4,
   "id": "ff65efca",
   "metadata": {},
   "outputs": [
    {
     "name": "stdout",
     "output_type": "stream",
     "text": [
      "Region             0\n",
      "Place name         0\n",
      "Place type         0\n",
      "Rating             0\n",
      "Reviews            0\n",
      "Price              0\n",
      "Delivery option    0\n",
      "Dine in option     0\n",
      "Takeout option     0\n",
      "dtype: int64\n"
     ]
    }
   ],
   "source": [
    "import numpy as np\n",
    "#c) Handling missing values\n",
    "data.Rating = data.Rating.fillna(0)\n",
    "data.Reviews = data.Reviews.fillna(data.Reviews.median())\n",
    "data['Dine in option'] = data['Dine in option'].fillna(False)\n",
    "data['Takeout option'] = data['Takeout option'].fillna(False)\n",
    "\n",
    "print(data.isna().sum())"
   ]
  },
  {
   "cell_type": "code",
   "execution_count": 5,
   "id": "5bbc672f",
   "metadata": {},
   "outputs": [],
   "source": [
    "#Summary so far\n",
    "#We needed to be sure that we have the data as the documentation said it was\n",
    "#Then we needed to manage the missing values as requested"
   ]
  },
  {
   "cell_type": "code",
   "execution_count": 6,
   "id": "7121f451",
   "metadata": {},
   "outputs": [
    {
     "name": "stdout",
     "output_type": "stream",
     "text": [
      "0.0     2\n",
      "3.9     2\n",
      "4.0     2\n",
      "4.1     2\n",
      "4.2     2\n",
      "4.3     6\n",
      "4.4    12\n",
      "4.5    22\n",
      "4.6    47\n",
      "4.7    39\n",
      "4.8    18\n",
      "4.9    25\n",
      "5.0    21\n",
      "Name: Rating, dtype: int64\n"
     ]
    },
    {
     "data": {
      "image/png": "[encoded data removed]",
      "text/plain": [
       "<Figure size 640x480 with 1 Axes>"
      ]
     },
     "metadata": {},
     "output_type": "display_data"
    }
   ],
   "source": [
    "#Create a visualization that shows how many stores were given each rating.\n",
    "print(data['Rating'].value_counts().sort_index())\n",
    "\n",
    "\n",
    "import seaborn as sns\n",
    "import matplotlib.pyplot as plt\n",
    "sns.countplot(x='Rating',data=data)\n",
    "plt.title('Number of stores for each rating')\n",
    "plt.ylabel('Quantity of stores')\n",
    "plt.show()\n",
    "\n",
    "#As it can be seen, the category that had more ratings was 4.6 with 47 stores.\n",
    "# Are the observations balanced across categories ??"
   ]
  },
  {
   "cell_type": "code",
   "execution_count": 7,
   "id": "c80f5999",
   "metadata": {},
   "outputs": [
    {
     "name": "stdout",
     "output_type": "stream",
     "text": [
      "200 197\n"
     ]
    },
    {
     "data": {
      "image/png": "[encoded data removed]",
      "text/plain": [
       "<Figure size 640x480 with 1 Axes>"
      ]
     },
     "metadata": {},
     "output_type": "display_data"
    }
   ],
   "source": [
    "#Plot the distribution of number of reviews\n",
    "data_without_outliers = data[(data['Reviews'] < 17000) & (data['Rating'] != 0)]\n",
    "print(len(data),len(data_without_outliers))\n",
    "\n",
    "sns.histplot(data=data_without_outliers,x='Reviews')\n",
    "plt.title('Reviews distribution')\n",
    "plt.show()\n",
    "#As it can be seen, most of the restaurants have less than 500. It seems that there is a tendency, when Reviews increase, \n",
    "#the number of restaurants tend to be less. "
   ]
  },
  {
   "cell_type": "code",
   "execution_count": 8,
   "id": "ef52d825",
   "metadata": {},
   "outputs": [
    {
     "data": {
      "image/png": "[encoded data removed]",
      "text/plain": [
       "<Figure size 500x500 with 1 Axes>"
      ]
     },
     "metadata": {},
     "output_type": "display_data"
    },
    {
     "name": "stdout",
     "output_type": "stream",
     "text": [
      "Correlation coefficient:  -0.243497151364041\n"
     ]
    }
   ],
   "source": [
    "#Relationship between number of reviews and rating\n",
    "sns.lmplot(data=data_without_outliers, x='Reviews',y='Rating',ci=None)\n",
    "plt.show()\n",
    "\n",
    "print('Correlation coefficient: ',data_without_outliers['Reviews'].corr(data_without_outliers['Rating']))\n",
    "\n",
    "#The plot and the correlation function shows a negative correlation value. However, since it is -0.2, it can be \n",
    "#considered as a low correlation"
   ]
  },
  {
   "cell_type": "code",
   "execution_count": 9,
   "id": "62f58fc0",
   "metadata": {},
   "outputs": [
    {
     "name": "stdout",
     "output_type": "stream",
     "text": [
      "     Rating  Place type_Cafe  Place type_Coffee shop  Place type_Espresso bar  \\\n",
      "0       4.6                0                       0                        0   \n",
      "1       5.0                1                       0                        0   \n",
      "2       5.0                0                       1                        0   \n",
      "3       4.4                0                       1                        0   \n",
      "4       5.0                0                       1                        0   \n",
      "..      ...              ...                     ...                      ...   \n",
      "195     4.6                0                       0                        0   \n",
      "196     4.3                1                       0                        0   \n",
      "197     4.6                1                       0                        0   \n",
      "198     4.7                0                       1                        0   \n",
      "199     4.3                1                       0                        0   \n",
      "\n",
      "     Place type_Others  Price_$  Price_$$  Price_$$$  Region_A  Region_B  ...  \\\n",
      "0                    1        0         1          0         0         0  ...   \n",
      "1                    0        0         1          0         0         0  ...   \n",
      "2                    0        0         1          0         0         0  ...   \n",
      "3                    0        0         1          0         0         0  ...   \n",
      "4                    0        0         1          0         0         0  ...   \n",
      "..                 ...      ...       ...        ...       ...       ...  ...   \n",
      "195                  1        0         0          1         0         0  ...   \n",
      "196                  0        0         1          0         0         0  ...   \n",
      "197                  0        0         1          0         0         0  ...   \n",
      "198                  0        0         1          0         0         0  ...   \n",
      "199                  0        0         1          0         0         0  ...   \n",
      "\n",
      "     Region_G  Region_H  Region_I  Region_J  Delivery option_False  \\\n",
      "0           0         0         0         0                      1   \n",
      "1           0         0         0         0                      1   \n",
      "2           0         0         0         0                      1   \n",
      "3           0         0         0         0                      1   \n",
      "4           0         0         0         0                      1   \n",
      "..        ...       ...       ...       ...                    ...   \n",
      "195         0         1         0         0                      1   \n",
      "196         0         1         0         0                      1   \n",
      "197         0         1         0         0                      1   \n",
      "198         0         1         0         0                      1   \n",
      "199         0         1         0         0                      1   \n",
      "\n",
      "     Delivery option_True  Dine in option_False  Dine in option_True  \\\n",
      "0                       0                     1                    0   \n",
      "1                       0                     1                    0   \n",
      "2                       0                     1                    0   \n",
      "3                       0                     0                    1   \n",
      "4                       0                     0                    1   \n",
      "..                    ...                   ...                  ...   \n",
      "195                     0                     0                    1   \n",
      "196                     0                     0                    1   \n",
      "197                     0                     0                    1   \n",
      "198                     0                     0                    1   \n",
      "199                     0                     0                    1   \n",
      "\n",
      "     Takeout option_False  Takeout option_True  \n",
      "0                       1                    0  \n",
      "1                       0                    1  \n",
      "2                       0                    1  \n",
      "3                       0                    1  \n",
      "4                       0                    1  \n",
      "..                    ...                  ...  \n",
      "195                     0                    1  \n",
      "196                     0                    1  \n",
      "197                     0                    1  \n",
      "198                     0                    1  \n",
      "199                     1                    0  \n",
      "\n",
      "[197 rows x 24 columns]\n"
     ]
    }
   ],
   "source": [
    "#The business wants to predict the number of reviews a store will get using the data provided.\n",
    "#This can be done with a regression model. However, linear regression should be selected since the output(reviews) is numeric.\n",
    "\n",
    "#Important: Categorical values should be transformed into dummies for better performance\n",
    "features = data_without_outliers.drop(columns = ['Reviews','Place name'])\n",
    "X = pd.get_dummies(features, columns = ['Place type','Price','Region','Delivery option','Dine in option','Takeout option'])\n",
    "y= data_without_outliers[['Reviews']]\n",
    "print(X)"
   ]
  },
  {
   "cell_type": "code",
   "execution_count": 10,
   "id": "014ba536",
   "metadata": {},
   "outputs": [
    {
     "name": "stdout",
     "output_type": "stream",
     "text": [
      "544.1589356884243\n"
     ]
    }
   ],
   "source": [
    "#Baseline model--> Linear regression\n",
    "from sklearn.linear_model import LinearRegression\n",
    "from sklearn.model_selection import train_test_split\n",
    "from sklearn.metrics import mean_squared_error as MSE\n",
    "\n",
    "X_train,X_test,y_train,y_test = train_test_split(X,y,test_size=0.3,random_state=42)\n",
    "reg = LinearRegression()\n",
    "reg.fit(X_train,y_train)\n",
    "y_pred = reg.predict(X_test)\n",
    "\n",
    "#print(reg.score(X_test,y_test))\n",
    "mse_reg = MSE(y_test,y_pred)\n",
    "rmse = mse_reg ** (1/2)\n",
    "print(rmse)\n"
   ]
  },
  {
   "cell_type": "code",
   "execution_count": 11,
   "id": "f35e3792",
   "metadata": {},
   "outputs": [
    {
     "name": "stdout",
     "output_type": "stream",
     "text": [
      "529.0602024115186\n"
     ]
    }
   ],
   "source": [
    "#Comparison model --> Regression tree\n",
    "from sklearn.tree import DecisionTreeRegressor\n",
    "\n",
    "dt = DecisionTreeRegressor(max_depth = 4, min_samples_leaf=0.1, random_state=42)\n",
    "dt.fit(X_train,y_train)\n",
    "dt_pred = dt.predict(X_test)\n",
    "\n",
    "mse_dt = MSE(y_test,dt_pred)\n",
    "rmse_dt = mse_dt ** (1/2)\n",
    "print(rmse_dt)\n"
   ]
  },
  {
   "cell_type": "code",
   "execution_count": 12,
   "id": "ec3910dc",
   "metadata": {},
   "outputs": [
    {
     "name": "stderr",
     "output_type": "stream",
     "text": [
      "C:\\Users\\MacBook\\AppData\\Local\\Temp\\ipykernel_13296\\545237294.py:5: DataConversionWarning: A column-vector y was passed when a 1d array was expected. Please change the shape of y to (n_samples,), for example using ravel().\n",
      "  rf.fit(X_train,y_train)\n"
     ]
    },
    {
     "name": "stdout",
     "output_type": "stream",
     "text": [
      "552.1434170577865\n"
     ]
    }
   ],
   "source": [
    "#Comparison model --> Random forest regressor\n",
    "from sklearn.ensemble import RandomForestRegressor\n",
    "\n",
    "rf = RandomForestRegressor(n_estimators=400, min_samples_leaf=0.12,random_state=42)\n",
    "rf.fit(X_train,y_train)\n",
    "rf_pred = rf.predict(X_test)\n",
    "rmse_test = MSE(y_test, rf_pred) ** (1/2)\n",
    "print(rmse_test)\n"
   ]
  },
  {
   "cell_type": "markdown",
   "id": "8b09efe0",
   "metadata": {},
   "source": [
    " If we need to choose a model by usign the RMSE, then the regression tree would be better \n",
    "since a lower value means a lower distance between the predicted values and the actual values"
   ]
  }
 ],
 "metadata": {
  "kernelspec": {
   "display_name": "Python 3 (ipykernel)",
   "language": "python",
   "name": "python3"
  },
  "language_info": {
   "codemirror_mode": {
    "name": "ipython",
    "version": 3
   },
   "file_extension": ".py",
   "mimetype": "text/x-python",
   "name": "python",
   "nbconvert_exporter": "python",
   "pygments_lexer": "ipython3",
   "version": "3.9.13"
  }
 },
 "nbformat": 4,
 "nbformat_minor": 5
}
